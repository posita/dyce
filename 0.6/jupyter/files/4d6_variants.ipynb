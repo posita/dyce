{
 "cells": [
  {
   "cell_type": "markdown",
   "id": "b9c65b40",
   "metadata": {},
   "source": [
    "## Modeling “[The Probability of 4d6, Drop the Lowest, Reroll 1s](http://prestonpoulter.com/2010/11/19/the-probability-of-4d6-drop-the-lowest-reroll-1s/)” in [``dyce``](https://posita.github.io/dyce/)\n",
    "\n",
    "Select ``Run All Cells`` from the ``Run`` menu above."
   ]
  },
  {
   "cell_type": "code",
   "execution_count": 1,
   "id": "33fa1e95-33d6-41ca-ba19-81ec2b31e04f",
   "metadata": {},
   "outputs": [],
   "source": [
    "# Install additional requirements if necessary\n",
    "import warnings\n",
    "with warnings.catch_warnings():\n",
    "    warnings.simplefilter(\"ignore\")\n",
    "    try:\n",
    "        import anydyce\n",
    "    except (ImportError, ModuleNotFoundError):\n",
    "        requirements = [\"anydyce~=0.1\"]\n",
    "        try:\n",
    "            import piplite ; await piplite.install(requirements)\n",
    "        except ImportError:\n",
    "            import pip ; pip.main([\"install\"] + requirements)\n",
    "    import anydyce"
   ]
  },
  {
   "cell_type": "code",
   "execution_count": 2,
   "id": "cf100984-5283-42d5-9d09-2ea59c7123f4",
   "metadata": {},
   "outputs": [],
   "source": [
    "from dyce import H, P\n",
    "from itertools import chain\n",
    "\n",
    "p_4d6 = 4 @ P(6)\n",
    "d6_reroll_first_one = H(6).substitute(\n",
    "    lambda h, outcome: h if outcome == 1 else outcome\n",
    ")\n",
    "p_4d6_reroll_first_one = 4 @ P(d6_reroll_first_one)\n",
    "p_4d6_reroll_all_ones = 4 @ P(H(5) + 1)\n",
    "\n",
    "markers = \"Ds^*xo\"\n",
    "attr_results: dict[str, H] = {\n",
    "    \"3d6\": 3 @ H(6),  # marker=\"D\"\n",
    "    \"4d6 - discard lowest\": p_4d6.h(slice(1, None)),  # marker=\"s\"\n",
    "    \"4d6 - re-roll first 1, discard lowest\": p_4d6_reroll_first_one.h(\n",
    "        slice(1, None)\n",
    "    ),  # marker=\"^\"\n",
    "    \"4d6 - re-roll all 1s (i.e., 4d5 + 1), discard lowest\": p_4d6_reroll_all_ones.h(\n",
    "        slice(1, None)\n",
    "    ),  # marker=\"*\"\n",
    "    \"2d6 + 6\": 2 @ H(6) + 6,  # marker=\"x\"\n",
    "    \"4d4 + 2\": 4 @ H(4) + 2,  # marker=\"o\"\n",
    "}\n",
    "zero_fill_outcomes = set(chain(*(res.outcomes() for res in attr_results.values())))\n",
    "attr_results = {\n",
    "    label: res.zero_fill(zero_fill_outcomes) for label, res in attr_results.items()\n",
    "}"
   ]
  },
  {
   "cell_type": "code",
   "execution_count": 3,
   "id": "a8313156",
   "metadata": {},
   "outputs": [
    {
     "data": {
      "application/vnd.jupyter.widget-view+json": {
       "model_id": "4292e17d3c9a43279770d09e6e28bc6e",
       "version_major": 2,
       "version_minor": 0
      },
      "text/plain": [
       "VBox(children=(HBox(children=(VBox(children=(IntSlider(value=12, continuous_update=False, description='Scale',…"
      ]
     },
     "metadata": {},
     "output_type": "display_data"
    }
   ],
   "source": [
    "from anydyce.viz import BreakoutType, jupyter_visualize\n",
    "\n",
    "jupyter_visualize(\n",
    "    [(label, res) for label, res in attr_results.items()],\n",
    "    default_breakout_type=BreakoutType.BURST,\n",
    "    default_markers=markers,\n",
    ")"
   ]
  }
 ],
 "metadata": {
  "kernelspec": {
   "display_name": "Python 3 (ipykernel)",
   "language": "python",
   "name": "python3"
  },
  "language_info": {
   "codemirror_mode": {
    "name": "ipython",
    "version": 3
   },
   "file_extension": ".py",
   "mimetype": "text/x-python",
   "name": "python",
   "nbconvert_exporter": "python",
   "pygments_lexer": "ipython3",
   "version": "3.9.10"
  }
 },
 "nbformat": 4,
 "nbformat_minor": 5
}
