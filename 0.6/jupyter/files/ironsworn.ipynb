{
 "cells": [
  {
   "cell_type": "markdown",
   "id": "dad198d0",
   "metadata": {
    "tags": []
   },
   "source": [
    "## Modeling *Ironsworn*’s core mechanic in [``dyce``](https://posita.github.io/dyce/)\n",
    "\n",
    "Select ``Run All Cells`` from the ``Run`` menu above."
   ]
  },
  {
   "cell_type": "code",
   "execution_count": 1,
   "id": "e414ffce-4262-40d9-b2cf-4ec7fbd5085e",
   "metadata": {},
   "outputs": [],
   "source": [
    "# Install additional requirements if necessary\n",
    "import warnings\n",
    "with warnings.catch_warnings():\n",
    "    warnings.simplefilter(\"ignore\")\n",
    "    try:\n",
    "        import anydyce, tabulate\n",
    "    except (ImportError, ModuleNotFoundError):\n",
    "        requirements = [\"anydyce~=0.4.0\", \"tabulate\"]\n",
    "        try:\n",
    "            import piplite ; await piplite.install(requirements)\n",
    "            # Work around <https://github.com/jupyterlite/jupyterlite/issues/838>\n",
    "            import matplotlib.pyplot ; matplotlib.pyplot.clf()\n",
    "        except ImportError:\n",
    "            import pip ; pip.main([\"install\"] + requirements)\n",
    "    import anydyce, tabulate"
   ]
  },
  {
   "cell_type": "code",
   "execution_count": 2,
   "id": "90981f2c-2130-40eb-b6db-3114070761e5",
   "metadata": {},
   "outputs": [],
   "source": [
    "from dyce import H\n",
    "from dyce.evaluation import HResult, PResult\n",
    "from enum import IntEnum, auto\n",
    "\n",
    "class IronSoloResult(IntEnum):\n",
    "    SPECTACULAR_FAILURE = -1\n",
    "    FAILURE = auto()\n",
    "    WEAK_SUCCESS = auto()\n",
    "    STRONG_SUCCESS = auto()\n",
    "    SPECTACULAR_SUCCESS = auto()\n",
    "\n",
    "d6 = H(6)\n",
    "d10 = H(10)\n",
    "\n",
    "def iron_solo_dependent_term(\n",
    "    action: HResult,\n",
    "    challenges: PResult,\n",
    "    mod=0,\n",
    "):\n",
    "    modded_action = action.outcome + mod\n",
    "    first_challenge_outcome, second_challenge_outcome = challenges.roll\n",
    "    beats_first_challenge = modded_action > first_challenge_outcome\n",
    "    beats_second_challenge = modded_action > second_challenge_outcome\n",
    "    doubles = first_challenge_outcome == second_challenge_outcome\n",
    "    if beats_first_challenge and beats_second_challenge:\n",
    "        return (\n",
    "            IronSoloResult.SPECTACULAR_SUCCESS\n",
    "            if doubles\n",
    "            else IronSoloResult.STRONG_SUCCESS\n",
    "        )\n",
    "    elif beats_first_challenge or beats_second_challenge:\n",
    "        return IronSoloResult.WEAK_SUCCESS\n",
    "    else:\n",
    "        return (\n",
    "            IronSoloResult.SPECTACULAR_FAILURE\n",
    "            if doubles\n",
    "            else IronSoloResult.FAILURE\n",
    "        )"
   ]
  },
  {
   "cell_type": "code",
   "execution_count": 3,
   "id": "e079c284-57cd-448b-94b3-af43f66b1b4c",
   "metadata": {},
   "outputs": [
    {
     "data": {
      "text/html": [
       "<style type=\"text/css\">\n",
       "</style>\n",
       "<table id=\"T_d49b2\">\n",
       "  <thead>\n",
       "    <tr>\n",
       "      <th class=\"blank level0\" >&nbsp;</th>\n",
       "      <th id=\"T_d49b2_level0_col0\" class=\"col_heading level0 col0\" >SPECTACULAR_FAILURE</th>\n",
       "      <th id=\"T_d49b2_level0_col1\" class=\"col_heading level0 col1\" >FAILURE</th>\n",
       "      <th id=\"T_d49b2_level0_col2\" class=\"col_heading level0 col2\" >WEAK_SUCCESS</th>\n",
       "      <th id=\"T_d49b2_level0_col3\" class=\"col_heading level0 col3\" >STRONG_SUCCESS</th>\n",
       "      <th id=\"T_d49b2_level0_col4\" class=\"col_heading level0 col4\" >SPECTACULAR_SUCCESS</th>\n",
       "    </tr>\n",
       "    <tr>\n",
       "      <th class=\"index_name level0\" >Modifier</th>\n",
       "      <th class=\"blank col0\" >&nbsp;</th>\n",
       "      <th class=\"blank col1\" >&nbsp;</th>\n",
       "      <th class=\"blank col2\" >&nbsp;</th>\n",
       "      <th class=\"blank col3\" >&nbsp;</th>\n",
       "      <th class=\"blank col4\" >&nbsp;</th>\n",
       "    </tr>\n",
       "  </thead>\n",
       "  <tbody>\n",
       "    <tr>\n",
       "      <th id=\"T_d49b2_level0_row0\" class=\"row_heading level0 row0\" >0</th>\n",
       "      <td id=\"T_d49b2_row0_col0\" class=\"data row0 col0\" >7.50%</td>\n",
       "      <td id=\"T_d49b2_row0_col1\" class=\"data row0 col1\" >51.67%</td>\n",
       "      <td id=\"T_d49b2_row0_col2\" class=\"data row0 col2\" >31.67%</td>\n",
       "      <td id=\"T_d49b2_row0_col3\" class=\"data row0 col3\" >6.67%</td>\n",
       "      <td id=\"T_d49b2_row0_col4\" class=\"data row0 col4\" >2.50%</td>\n",
       "    </tr>\n",
       "    <tr>\n",
       "      <th id=\"T_d49b2_level0_row1\" class=\"row_heading level0 row1\" >1</th>\n",
       "      <td id=\"T_d49b2_row1_col0\" class=\"data row1 col0\" >6.50%</td>\n",
       "      <td id=\"T_d49b2_row1_col1\" class=\"data row1 col1\" >38.67%</td>\n",
       "      <td id=\"T_d49b2_row1_col2\" class=\"data row1 col2\" >39.67%</td>\n",
       "      <td id=\"T_d49b2_row1_col3\" class=\"data row1 col3\" >11.67%</td>\n",
       "      <td id=\"T_d49b2_row1_col4\" class=\"data row1 col4\" >3.50%</td>\n",
       "    </tr>\n",
       "    <tr>\n",
       "      <th id=\"T_d49b2_level0_row2\" class=\"row_heading level0 row2\" >2</th>\n",
       "      <td id=\"T_d49b2_row2_col0\" class=\"data row2 col0\" >5.50%</td>\n",
       "      <td id=\"T_d49b2_row2_col1\" class=\"data row2 col1\" >27.67%</td>\n",
       "      <td id=\"T_d49b2_row2_col2\" class=\"data row2 col2\" >43.67%</td>\n",
       "      <td id=\"T_d49b2_row2_col3\" class=\"data row2 col3\" >18.67%</td>\n",
       "      <td id=\"T_d49b2_row2_col4\" class=\"data row2 col4\" >4.50%</td>\n",
       "    </tr>\n",
       "    <tr>\n",
       "      <th id=\"T_d49b2_level0_row3\" class=\"row_heading level0 row3\" >3</th>\n",
       "      <td id=\"T_d49b2_row3_col0\" class=\"data row3 col0\" >4.50%</td>\n",
       "      <td id=\"T_d49b2_row3_col1\" class=\"data row3 col1\" >18.67%</td>\n",
       "      <td id=\"T_d49b2_row3_col2\" class=\"data row3 col2\" >43.67%</td>\n",
       "      <td id=\"T_d49b2_row3_col3\" class=\"data row3 col3\" >27.67%</td>\n",
       "      <td id=\"T_d49b2_row3_col4\" class=\"data row3 col4\" >5.50%</td>\n",
       "    </tr>\n",
       "    <tr>\n",
       "      <th id=\"T_d49b2_level0_row4\" class=\"row_heading level0 row4\" >4</th>\n",
       "      <td id=\"T_d49b2_row4_col0\" class=\"data row4 col0\" >3.50%</td>\n",
       "      <td id=\"T_d49b2_row4_col1\" class=\"data row4 col1\" >11.67%</td>\n",
       "      <td id=\"T_d49b2_row4_col2\" class=\"data row4 col2\" >39.67%</td>\n",
       "      <td id=\"T_d49b2_row4_col3\" class=\"data row4 col3\" >38.67%</td>\n",
       "      <td id=\"T_d49b2_row4_col4\" class=\"data row4 col4\" >6.50%</td>\n",
       "    </tr>\n",
       "  </tbody>\n",
       "</table>\n"
      ],
      "text/plain": [
       "<pandas.io.formats.style.Styler at 0x7f7a02aecb10>"
      ]
     },
     "metadata": {},
     "output_type": "display_data"
    }
   ],
   "source": [
    "from dyce import P\n",
    "from dyce.evaluation import foreach\n",
    "from functools import partial\n",
    "from IPython.display import display\n",
    "from pandas import DataFrame, concat\n",
    "import jinja2  # to appease the JupyterLite loader\n",
    "import matplotlib, pandas\n",
    "\n",
    "mods = list(range(0, 5))\n",
    "df = pandas.DataFrame(columns=[v.name for v in IronSoloResult])\n",
    "results_by_mod = {}\n",
    "\n",
    "for mod in mods:\n",
    "    h_for_mod = foreach(\n",
    "        partial(iron_solo_dependent_term, mod=mod),\n",
    "        action=d6,\n",
    "        challenges=2 @ P(d10),\n",
    "    )\n",
    "    results_by_mod[mod] = h_for_mod\n",
    "    results_for_mod = {\n",
    "        outcome.name: count  # type: ignore\n",
    "        for outcome, count in h_for_mod.zero_fill(IronSoloResult).distribution(\n",
    "            rational_t=lambda n, d: n / d\n",
    "        )\n",
    "    }\n",
    "    row = pandas.DataFrame(results_for_mod, columns=[v.name for v in IronSoloResult], index=[mod])\n",
    "    df = pandas.concat((df, row))\n",
    "\n",
    "df.index.name = \"Modifier\"\n",
    "display(df.style.format(\"{:.2%}\"))"
   ]
  },
  {
   "cell_type": "code",
   "execution_count": 4,
   "id": "35a93417",
   "metadata": {},
   "outputs": [
    {
     "data": {
      "application/vnd.jupyter.widget-view+json": {
       "model_id": "b167dd71711b4e239bf86024b87df488",
       "version_major": 2,
       "version_minor": 0
      },
      "text/plain": [
       "VBox(children=(Accordion(children=(Tab(children=(VBox(children=(HBox(children=(VBox(children=(VBox(children=(C…"
      ]
     },
     "metadata": {},
     "output_type": "display_data"
    }
   ],
   "source": [
    "from anydyce import jupyter_visualize\n",
    "\n",
    "jupyter_visualize(\n",
    "    ((f\"Modifier: {mod:+}\", results_by_mod[mod]) for mod in mods),\n",
    "    initial_burst_zero_fill_normalize=True,\n",
    ")"
   ]
  }
 ],
 "metadata": {
  "kernelspec": {
   "display_name": "Python 3 (ipykernel)",
   "language": "python",
   "name": "python3"
  },
  "language_info": {
   "codemirror_mode": {
    "name": "ipython",
    "version": 3
   },
   "file_extension": ".py",
   "mimetype": "text/x-python",
   "name": "python",
   "nbconvert_exporter": "python",
   "pygments_lexer": "ipython3",
   "version": "3.11.4"
  }
 },
 "nbformat": 4,
 "nbformat_minor": 5
}
