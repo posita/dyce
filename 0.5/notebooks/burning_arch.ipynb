{
 "cells": [
  {
   "cell_type": "markdown",
   "id": "c34fffa6",
   "metadata": {},
   "source": [
    "## [``dyce``](https://posita.github.io/dyce/) translation of one example from [``markbrockettrobson/python_dice``](https://github.com/markbrockettrobson/python_dice#usage)\n",
    "\n",
    "Select ``Run All Cells`` from the ``Run`` menu above."
   ]
  },
  {
   "cell_type": "code",
   "execution_count": null,
   "id": "7849e754",
   "metadata": {},
   "outputs": [],
   "source": [
    "from dyce import H\n",
    "\n",
    "save_roll = H(20)\n",
    "burning_arch_damage = 10 @ H(6) + 10\n",
    "pass_save = save_roll.ge(10)\n",
    "damage_half_on_save = burning_arch_damage // (pass_save + 1)"
   ]
  },
  {
   "cell_type": "code",
   "execution_count": null,
   "id": "65fc0ce3",
   "metadata": {},
   "outputs": [],
   "source": [
    "from anydyce.viz import jupyter_visualize\n",
    "\n",
    "jupyter_visualize([damage_half_on_save])"
   ]
  }
 ],
 "metadata": {
  "kernelspec": {
   "display_name": "Python 3 (ipykernel)",
   "language": "python",
   "name": "python3"
  },
  "language_info": {
   "codemirror_mode": {
    "name": "ipython",
    "version": 3
   },
   "file_extension": ".py",
   "mimetype": "text/x-python",
   "name": "python",
   "nbconvert_exporter": "python",
   "pygments_lexer": "ipython3",
   "version": "3.9.7"
  }
 },
 "nbformat": 4,
 "nbformat_minor": 5
}
