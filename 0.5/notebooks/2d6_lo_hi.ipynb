{
 "cells": [
  {
   "cell_type": "markdown",
   "id": "63ef75d8",
   "metadata": {},
   "source": [
    "## Taking the lowest or highest die of 2d6 in [``dyce``](https://posita.github.io/dyce/)\n",
    "\n",
    "Select ``Run All Cells`` from the ``Run`` menu above."
   ]
  },
  {
   "cell_type": "code",
   "execution_count": 1,
   "id": "6a65c195",
   "metadata": {},
   "outputs": [],
   "source": [
    "from dyce import H, P\n",
    "\n",
    "p_2d6 = 2 @ P(H(6))\n",
    "p_2d6_lowest = p_2d6.h(0)\n",
    "p_2d6_highest = p_2d6.h(-1)"
   ]
  },
  {
   "cell_type": "code",
   "execution_count": null,
   "id": "7947e91e",
   "metadata": {},
   "outputs": [],
   "source": [
    "from anydyce.viz import BreakoutType, jupyter_visualize\n",
    "\n",
    "jupyter_visualize(\n",
    "    [(\"Lowest\", p_2d6_lowest), (\"Highest\", p_2d6_highest)],\n",
    "    default_breakout_type=BreakoutType.BARH,\n",
    "    default_main_plot_type=\"bar\",\n",
    ")"
   ]
  }
 ],
 "metadata": {
  "kernelspec": {
   "display_name": "Python 3 (ipykernel)",
   "language": "python",
   "name": "python3"
  },
  "language_info": {
   "codemirror_mode": {
    "name": "ipython",
    "version": 3
   },
   "file_extension": ".py",
   "mimetype": "text/x-python",
   "name": "python",
   "nbconvert_exporter": "python",
   "pygments_lexer": "ipython3",
   "version": "3.9.7"
  }
 },
 "nbformat": 4,
 "nbformat_minor": 5
}
