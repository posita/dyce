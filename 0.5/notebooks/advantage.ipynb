{
 "cells": [
  {
   "cell_type": "markdown",
   "id": "977c44a2",
   "metadata": {},
   "source": [
    "## [``dyce``](https://posita.github.io/dyce/) translations from [``LordSembor/DnDice``](https://github.com/LordSembor/DnDice#examples)\n",
    "\n",
    "Select ``Run All Cells`` from the ``Run`` menu above."
   ]
  },
  {
   "cell_type": "code",
   "execution_count": 1,
   "id": "c4efbc69",
   "metadata": {},
   "outputs": [],
   "source": [
    "from dyce import H, P\n",
    "\n",
    "normal_hit = H(12) + 5\n",
    "critical_hit = 3 @ H(12) + 5\n",
    "advantage = (2 @ P(20)).h(-1)\n",
    "\n",
    "def crit(outcome):\n",
    "    if outcome == 20:\n",
    "        return critical_hit\n",
    "    elif outcome + 5 >= 14:\n",
    "        return normal_hit\n",
    "    else:\n",
    "        return 0\n",
    "\n",
    "advantage_weighted = H.foreach(crit, outcome=advantage)"
   ]
  },
  {
   "cell_type": "code",
   "execution_count": null,
   "id": "894a52e6",
   "metadata": {},
   "outputs": [],
   "source": [
    "from anydyce.viz import BreakoutType, jupyter_visualize\n",
    "\n",
    "jupyter_visualize(\n",
    "    [\n",
    "        (\"Normal hit\", normal_hit),\n",
    "        (\"Critical hit\", critical_hit),\n",
    "        (\"Advantage-weighted\", advantage_weighted),\n",
    "    ],\n",
    "    default_breakout_type=BreakoutType.BURST,\n",
    ")"
   ]
  }
 ],
 "metadata": {
  "kernelspec": {
   "display_name": "Python 3 (ipykernel)",
   "language": "python",
   "name": "python3"
  },
  "language_info": {
   "codemirror_mode": {
    "name": "ipython",
    "version": 3
   },
   "file_extension": ".py",
   "mimetype": "text/x-python",
   "name": "python",
   "nbconvert_exporter": "python",
   "pygments_lexer": "ipython3",
   "version": "3.9.7"
  }
 },
 "nbformat": 4,
 "nbformat_minor": 5
}
