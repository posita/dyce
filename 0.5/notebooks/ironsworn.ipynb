{
 "cells": [
  {
   "cell_type": "markdown",
   "id": "dad198d0",
   "metadata": {
    "tags": []
   },
   "source": [
    "## Modeling *Ironsworn*’s core mechanic in [``dyce``](https://posita.github.io/dyce/)\n",
    "\n",
    "Select ``Run All Cells`` from the ``Run`` menu above."
   ]
  },
  {
   "cell_type": "code",
   "execution_count": 1,
   "id": "7e2d00d3",
   "metadata": {},
   "outputs": [],
   "source": [
    "from enum import IntEnum, auto\n",
    "from dyce import H\n",
    "\n",
    "class IronSoloResult(IntEnum):\n",
    "    SPECTACULAR_FAILURE = -1\n",
    "    FAILURE = auto()\n",
    "    WEAK_SUCCESS = auto()\n",
    "    STRONG_SUCCESS = auto()\n",
    "    SPECTACULAR_SUCCESS = auto()\n",
    "\n",
    "d6 = H(6)\n",
    "d10 = H(10)\n",
    "\n",
    "def iron_solo_dependent_term(action, first_challenge, second_challenge, mod=0):\n",
    "    modded_action = action + mod\n",
    "    beats_first = modded_action > first_challenge\n",
    "    beats_second = modded_action > second_challenge\n",
    "    doubles = first_challenge == second_challenge\n",
    "\n",
    "    if beats_first and beats_second:\n",
    "        return (\n",
    "            IronSoloResult.SPECTACULAR_SUCCESS\n",
    "            if doubles\n",
    "            else IronSoloResult.STRONG_SUCCESS\n",
    "        )\n",
    "    elif beats_first or beats_second:\n",
    "        return IronSoloResult.WEAK_SUCCESS\n",
    "    else:\n",
    "        return (\n",
    "            IronSoloResult.SPECTACULAR_FAILURE\n",
    "            if doubles\n",
    "            else IronSoloResult.FAILURE\n",
    "        )"
   ]
  },
  {
   "cell_type": "code",
   "execution_count": 2,
   "id": "35a93417",
   "metadata": {},
   "outputs": [
    {
     "data": {
      "application/vnd.jupyter.widget-view+json": {
       "model_id": "a9c4c2dfd8744009af43858a091c0df9",
       "version_major": 2,
       "version_minor": 0
      },
      "text/plain": [
       "VBox(children=(HBox(children=(VBox(children=(Label(value='Break-out Graphs:'), RadioButtons(index=2, options=(…"
      ]
     },
     "metadata": {},
     "output_type": "display_data"
    }
   ],
   "source": [
    "from functools import partial\n",
    "from anydyce.viz import BreakoutType, jupyter_visualize\n",
    "\n",
    "jupyter_visualize(\n",
    "    [\n",
    "        (f\"Modifier: {mod:+}\", H.foreach(\n",
    "            partial(iron_solo_dependent_term, mod=mod),\n",
    "            action=d6,\n",
    "            first_challenge=d10,\n",
    "            second_challenge=d10,\n",
    "        )) for mod in range(0, 5)\n",
    "    ],\n",
    "    default_breakout_type=BreakoutType.BURST,\n",
    "    default_main_plot_type=\"bar\",\n",
    ")"
   ]
  }
 ],
 "metadata": {
  "kernelspec": {
   "display_name": "Python 3 (ipykernel)",
   "language": "python",
   "name": "python3"
  },
  "language_info": {
   "codemirror_mode": {
    "name": "ipython",
    "version": 3
   },
   "file_extension": ".py",
   "mimetype": "text/x-python",
   "name": "python",
   "nbconvert_exporter": "python",
   "pygments_lexer": "ipython3",
   "version": "3.9.7"
  }
 },
 "nbformat": 4,
 "nbformat_minor": 5
}
