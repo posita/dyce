{
 "cells": [
  {
   "cell_type": "markdown",
   "id": "977c44a2",
   "metadata": {},
   "source": [
    "## [``dyce``](https://posita.github.io/dyce/) translation of one example from [``LordSembor/DnDice``](https://github.com/LordSembor/DnDice#examples)\n",
    "\n",
    "Select ``Run All Cells`` from the ``Run`` menu above."
   ]
  },
  {
   "cell_type": "code",
   "execution_count": 1,
   "id": "ae32b690-29c6-42cc-bc1b-46d5a59cdea4",
   "metadata": {},
   "outputs": [],
   "source": [
    "# Install additional requirements if necessary\n",
    "import warnings\n",
    "with warnings.catch_warnings():\n",
    "    warnings.simplefilter(\"ignore\")\n",
    "    try:\n",
    "        import anydyce\n",
    "    except (ImportError, ModuleNotFoundError):\n",
    "        requirements = [\"anydyce~=0.3.0\"]\n",
    "        try:\n",
    "            import piplite ; await piplite.install(requirements)\n",
    "            # Work around <https://github.com/jupyterlite/jupyterlite/issues/838>\n",
    "            import matplotlib.pyplot ; matplotlib.pyplot.clf()\n",
    "        except ImportError:\n",
    "            import pip ; pip.main([\"install\"] + requirements)\n",
    "    import anydyce"
   ]
  },
  {
   "cell_type": "code",
   "execution_count": 2,
   "id": "17408a91-c746-49f0-aa1f-af37ea5293b5",
   "metadata": {},
   "outputs": [],
   "source": [
    "from dyce import H, P\n",
    "from dyce.evaluation import HResult, foreach\n",
    "\n",
    "normal_hit = H(12) + 5\n",
    "critical_hit = 3 @ H(12) + 5\n",
    "advantage = (2 @ P(20)).h(-1)\n",
    "\n",
    "def crit(result: HResult):\n",
    "    if result.outcome == 20:\n",
    "        return critical_hit\n",
    "    elif result.outcome + 5 >= 14:\n",
    "        return normal_hit\n",
    "    else:\n",
    "        return 0\n",
    "\n",
    "advantage_weighted = foreach(crit, result=advantage)"
   ]
  },
  {
   "cell_type": "code",
   "execution_count": 3,
   "id": "894a52e6",
   "metadata": {},
   "outputs": [
    {
     "data": {
      "application/vnd.jupyter.widget-view+json": {
       "model_id": "7667d71863514a4b832e8e95189ee246",
       "version_major": 2,
       "version_minor": 0
      },
      "text/plain": [
       "VBox(children=(HBox(children=(VBox(children=(IntSlider(value=12, continuous_update=False, description='Scale',…"
      ]
     },
     "metadata": {},
     "output_type": "display_data"
    }
   ],
   "source": [
    "from anydyce.viz import BreakoutType, jupyter_visualize\n",
    "\n",
    "jupyter_visualize(\n",
    "    [\n",
    "        (\"Normal hit\", normal_hit),\n",
    "        (\"Critical hit\", critical_hit),\n",
    "        (\"Advantage-weighted\", advantage_weighted),\n",
    "    ],\n",
    "    default_breakout_type=BreakoutType.BURST,\n",
    ")"
   ]
  }
 ],
 "metadata": {
  "kernelspec": {
   "display_name": "Python 3 (ipykernel)",
   "language": "python",
   "name": "python3"
  },
  "language_info": {
   "codemirror_mode": {
    "name": "ipython",
    "version": 3
   },
   "file_extension": ".py",
   "mimetype": "text/x-python",
   "name": "python",
   "nbconvert_exporter": "python",
   "pygments_lexer": "ipython3",
   "version": "3.10.6"
  }
 },
 "nbformat": 4,
 "nbformat_minor": 5
}
