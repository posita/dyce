{
 "cells": [
  {
   "cell_type": "markdown",
   "id": "e958429f",
   "metadata": {},
   "source": [
    "## [``dyce``](https://posita.github.io/dyce/) translation of one example from [``LordSembor/DnDice``](https://github.com/LordSembor/DnDice#examples)\n",
    "\n",
    "Select ``Run All Cells`` from the ``Run`` menu above."
   ]
  },
  {
   "cell_type": "code",
   "execution_count": 1,
   "id": "74f6ee22-419e-448b-84f3-d7087b1144dd",
   "metadata": {},
   "outputs": [],
   "source": [
    "# Install additional requirements if necessary\n",
    "import warnings\n",
    "with warnings.catch_warnings():\n",
    "    warnings.simplefilter(\"ignore\")\n",
    "    try:\n",
    "        import anydyce\n",
    "    except (ImportError, ModuleNotFoundError):\n",
    "        requirements = [\"anydyce~=0.3.0\"]\n",
    "        try:\n",
    "            import piplite ; await piplite.install(requirements)\n",
    "            # Work around <https://github.com/jupyterlite/jupyterlite/issues/838>\n",
    "            import matplotlib.pyplot ; matplotlib.pyplot.clf()\n",
    "        except ImportError:\n",
    "            import pip ; pip.main([\"install\"] + requirements)\n",
    "    import anydyce"
   ]
  },
  {
   "cell_type": "code",
   "execution_count": 2,
   "id": "8eb904dd-0557-400d-b16d-04155aa06ad6",
   "metadata": {},
   "outputs": [],
   "source": [
    "from dyce import H\n",
    "from dyce.evaluation import HResult, foreach\n",
    "\n",
    "single_attack = 2 @ H(6) + 5\n",
    "\n",
    "def gwf(result: HResult):\n",
    "    return result.h if result.outcome in (1, 2) else result.outcome\n",
    "\n",
    "great_weapon_fighting = 2 @ foreach(gwf, result=H(6)) + 5"
   ]
  },
  {
   "cell_type": "code",
   "execution_count": 3,
   "id": "2b195ca9",
   "metadata": {},
   "outputs": [
    {
     "data": {
      "application/vnd.jupyter.widget-view+json": {
       "model_id": "89800ecfe2684789bae2e36a470c887a",
       "version_major": 2,
       "version_minor": 0
      },
      "text/plain": [
       "VBox(children=(HBox(children=(VBox(children=(IntSlider(value=12, continuous_update=False, description='Scale',…"
      ]
     },
     "metadata": {},
     "output_type": "display_data"
    }
   ],
   "source": [
    "from anydyce.viz import BreakoutType, jupyter_visualize\n",
    "\n",
    "jupyter_visualize(\n",
    "    [\n",
    "        (\"Normal attack\", single_attack),\n",
    "        (\"“Great Weapon Fighting”\", great_weapon_fighting),\n",
    "    ],\n",
    "    default_breakout_type=BreakoutType.BURST,\n",
    ")"
   ]
  }
 ],
 "metadata": {
  "kernelspec": {
   "display_name": "Python 3 (ipykernel)",
   "language": "python",
   "name": "python3"
  },
  "language_info": {
   "codemirror_mode": {
    "name": "ipython",
    "version": 3
   },
   "file_extension": ".py",
   "mimetype": "text/x-python",
   "name": "python",
   "nbconvert_exporter": "python",
   "pygments_lexer": "ipython3",
   "version": "3.10.6"
  }
 },
 "nbformat": 4,
 "nbformat_minor": 5
}
