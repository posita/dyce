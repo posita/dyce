{
 "cells": [
  {
   "cell_type": "markdown",
   "id": "b9c65b40",
   "metadata": {},
   "source": [
    "## Modeling “[The Probability of 4d6, Drop the Lowest, Reroll 1s](http://prestonpoulter.com/2010/11/19/the-probability-of-4d6-drop-the-lowest-reroll-1s/)” in [``dyce``](https://posita.github.io/dyce/)\n",
    "\n",
    "Select ``Run All Cells`` from the ``Run`` menu above."
   ]
  },
  {
   "cell_type": "code",
   "execution_count": 1,
   "id": "33fa1e95-33d6-41ca-ba19-81ec2b31e04f",
   "metadata": {},
   "outputs": [],
   "source": [
    "# Install additional requirements if necessary\n",
    "import warnings\n",
    "with warnings.catch_warnings():\n",
    "    warnings.simplefilter(\"ignore\")\n",
    "    try:\n",
    "        import anydyce\n",
    "    except (ImportError, ModuleNotFoundError):\n",
    "        requirements = [\"anydyce~=0.1\"]\n",
    "        try:\n",
    "            import piplite ; await piplite.install(requirements)\n",
    "        except ImportError:\n",
    "            import pip ; pip.main([\"install\"] + requirements)\n",
    "    import anydyce"
   ]
  },
  {
   "cell_type": "code",
   "execution_count": 2,
   "id": "cf100984-5283-42d5-9d09-2ea59c7123f4",
   "metadata": {},
   "outputs": [],
   "source": [
    "from dyce import H, P\n",
    "\n",
    "res1 = 3 @ H(6)\n",
    "p_4d6 = 4 @ P(6)\n",
    "res2 = p_4d6.h(slice(1, None))\n",
    "d6_reroll_first_one = H(6).substitute(\n",
    "    lambda h, outcome: h if outcome == 1 else outcome\n",
    ")\n",
    "p_4d6_reroll_first_one = 4 @ P(d6_reroll_first_one)\n",
    "res3 = p_4d6_reroll_first_one.h(slice(1, None))\n",
    "p_4d6_reroll_all_ones = 4 @ P(H(5) + 1)\n",
    "res4 = p_4d6_reroll_all_ones.h(slice(1, None))\n",
    "res5 = 2 @ H(6) + 6\n",
    "res6 = 4 @ H(4) + 2"
   ]
  },
  {
   "cell_type": "code",
   "execution_count": 3,
   "id": "a8313156",
   "metadata": {},
   "outputs": [
    {
     "data": {
      "application/vnd.jupyter.widget-view+json": {
       "model_id": "4897a0723d524e71bc08a2adc9f58a26",
       "version_major": 2,
       "version_minor": 0
      },
      "text/plain": [
       "VBox(children=(HBox(children=(VBox(children=(IntSlider(value=12, continuous_update=False, description='Scale',…"
      ]
     },
     "metadata": {},
     "output_type": "display_data"
    }
   ],
   "source": [
    "from anydyce.viz import BreakoutType, jupyter_visualize\n",
    "\n",
    "jupyter_visualize(\n",
    "    [\n",
    "        (\"3d6\", res1),  # marker=\"D\"\n",
    "        (\"4d6 - discard lowest\", res2),  # marker=\"s\"\n",
    "        (\"4d6 - re-roll first 1, discard lowest\", res3),  # marker=\"^\"\n",
    "        (\"4d6 - re-roll all 1s (i.e., 4d5 + 1), discard lowest\", res4),  # marker=\"*\"\n",
    "        (\"2d6 + 6\", res5),  # marker=\"x\"\n",
    "        (\"4d4 + 2\", res6),  # marker=\"o\"\n",
    "    ],\n",
    "    default_breakout_type=BreakoutType.BURST,\n",
    "    default_markers=\"Ds^*xo\",\n",
    ")"
   ]
  }
 ],
 "metadata": {
  "kernelspec": {
   "display_name": "Python 3 (ipykernel)",
   "language": "python",
   "name": "python3"
  },
  "language_info": {
   "codemirror_mode": {
    "name": "ipython",
    "version": 3
   },
   "file_extension": ".py",
   "mimetype": "text/x-python",
   "name": "python",
   "nbconvert_exporter": "python",
   "pygments_lexer": "ipython3",
   "version": "3.9.10"
  }
 },
 "nbformat": 4,
 "nbformat_minor": 5
}
