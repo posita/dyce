{
 "cells": [
  {
   "cell_type": "markdown",
   "id": "7d60b130",
   "metadata": {},
   "source": [
    "## [``dyce``](https://posita.github.io/dyce/) translation of “[How do I implement this specialized roll-and-keep mechanic in AnyDice?](https://rpg.stackexchange.com/a/190806)”\n",
    "\n",
    "Select ``Run All Cells`` from the ``Run`` menu above."
   ]
  },
  {
   "cell_type": "code",
   "execution_count": 1,
   "id": "790a9d07-c962-43ca-a5c1-0792bc27d4cc",
   "metadata": {},
   "outputs": [],
   "source": [
    "# Install additional requirements if necessary\n",
    "import warnings\n",
    "with warnings.catch_warnings():\n",
    "    warnings.simplefilter(\"ignore\")\n",
    "    try:\n",
    "        import anydyce\n",
    "    except (ImportError, ModuleNotFoundError):\n",
    "        requirements = [\"anydyce~=0.1\"]\n",
    "        try:\n",
    "            import piplite ; await piplite.install(requirements)\n",
    "        except ImportError:\n",
    "            import pip ; pip.main([\"install\"] + requirements)\n",
    "    import anydyce"
   ]
  },
  {
   "cell_type": "code",
   "execution_count": 2,
   "id": "e558ef22-f107-4c48-90ab-13f460305774",
   "metadata": {},
   "outputs": [],
   "source": [
    "from dyce import P\n",
    "\n",
    "def roll_and_keep(p: P, k: int):\n",
    "    assert p.is_homogeneous\n",
    "    max_d = max(p[-1]) if p else 0\n",
    "\n",
    "    for roll, count in p.rolls_with_counts():\n",
    "        total = sum(roll[-k:]) + sum(1 for outcome in roll[:-k] if outcome == max_d)\n",
    "        yield total, count"
   ]
  },
  {
   "cell_type": "code",
   "execution_count": 3,
   "id": "7ff8f40f",
   "metadata": {},
   "outputs": [
    {
     "data": {
      "application/vnd.jupyter.widget-view+json": {
       "model_id": "0d35d5e2249c4e71b20bc2b6fcea25d3",
       "version_major": 2,
       "version_minor": 0
      },
      "text/plain": [
       "VBox(children=(HBox(children=(VBox(children=(IntSlider(value=12, continuous_update=False, description='Scale',…"
      ]
     },
     "metadata": {},
     "output_type": "display_data"
    }
   ],
   "source": [
    "from dyce import H\n",
    "from anydyce.viz import BreakoutType, jupyter_visualize\n",
    "\n",
    "d = 6\n",
    "keep = 3\n",
    "iterations = 8\n",
    "\n",
    "def normal():\n",
    "    for n in range(keep + 1, keep + 1 + iterations):\n",
    "        p = n @ P(d)\n",
    "        yield f\"{n}d{d} keep {keep}\", p.h(slice(-keep, None))\n",
    "\n",
    "def roll_and_keep_hs():\n",
    "    for n in range(keep + 1, keep + 1 + iterations):\n",
    "        p = n @ P(d)\n",
    "        yield f\"{n}d{d} keep {keep} add +1\", H(roll_and_keep(p, keep))\n",
    "\n",
    "jupyter_visualize(\n",
    "    [item for pair in zip(normal(), roll_and_keep_hs()) for item in pair],\n",
    "    default_breakout_type=BreakoutType.BURST,\n",
    "    default_markers=\"o.\",\n",
    ")"
   ]
  }
 ],
 "metadata": {
  "kernelspec": {
   "display_name": "Python 3 (ipykernel)",
   "language": "python",
   "name": "python3"
  },
  "language_info": {
   "codemirror_mode": {
    "name": "ipython",
    "version": 3
   },
   "file_extension": ".py",
   "mimetype": "text/x-python",
   "name": "python",
   "nbconvert_exporter": "python",
   "pygments_lexer": "ipython3",
   "version": "3.9.10"
  }
 },
 "nbformat": 4,
 "nbformat_minor": 5
}
