{
 "cells": [
  {
   "cell_type": "markdown",
   "id": "c34fffa6",
   "metadata": {},
   "source": [
    "## [``dyce``](https://posita.github.io/dyce/) translation of one example from [``markbrockettrobson/python_dice``](https://github.com/markbrockettrobson/python_dice#usage)\n",
    "\n",
    "Select ``Run All Cells`` from the ``Run`` menu above."
   ]
  },
  {
   "cell_type": "code",
   "execution_count": 1,
   "id": "8a40469f-c1f0-49bb-b329-9db44758ccec",
   "metadata": {},
   "outputs": [],
   "source": [
    "# Install additional requirements if necessary\n",
    "import warnings\n",
    "with warnings.catch_warnings():\n",
    "    warnings.simplefilter(\"ignore\")\n",
    "    try:\n",
    "        import anydyce\n",
    "    except (ImportError, ModuleNotFoundError):\n",
    "        requirements = [\"anydyce~=0.1\"]\n",
    "        try:\n",
    "            import piplite ; await piplite.install(requirements)\n",
    "        except ImportError:\n",
    "            import pip ; pip.main([\"install\"] + requirements)\n",
    "    import anydyce"
   ]
  },
  {
   "cell_type": "code",
   "execution_count": 2,
   "id": "b7f916e6-3482-4edf-9c64-793de102b093",
   "metadata": {},
   "outputs": [],
   "source": [
    "from dyce import H\n",
    "\n",
    "save_roll = H(20)\n",
    "burning_arch_damage = 10 @ H(6) + 10\n",
    "pass_save = save_roll.ge(10)\n",
    "damage_half_on_save = burning_arch_damage // (pass_save + 1)"
   ]
  },
  {
   "cell_type": "code",
   "execution_count": 3,
   "id": "65fc0ce3",
   "metadata": {},
   "outputs": [
    {
     "data": {
      "application/vnd.jupyter.widget-view+json": {
       "model_id": "ecdcd467f174485999b8c6aba9bece1c",
       "version_major": 2,
       "version_minor": 0
      },
      "text/plain": [
       "VBox(children=(HBox(children=(VBox(children=(IntSlider(value=12, continuous_update=False, description='Scale',…"
      ]
     },
     "metadata": {},
     "output_type": "display_data"
    }
   ],
   "source": [
    "from anydyce.viz import jupyter_visualize\n",
    "\n",
    "jupyter_visualize([damage_half_on_save])"
   ]
  }
 ],
 "metadata": {
  "kernelspec": {
   "display_name": "Python 3 (ipykernel)",
   "language": "python",
   "name": "python3"
  },
  "language_info": {
   "codemirror_mode": {
    "name": "ipython",
    "version": 3
   },
   "file_extension": ".py",
   "mimetype": "text/x-python",
   "name": "python",
   "nbconvert_exporter": "python",
   "pygments_lexer": "ipython3",
   "version": "3.9.10"
  }
 },
 "nbformat": 4,
 "nbformat_minor": 5
}
