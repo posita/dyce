{
 "cells": [
  {
   "cell_type": "markdown",
   "id": "bed8e9d6",
   "metadata": {},
   "source": [
    "## [``dyce``](https://posita.github.io/dyce/) translation of the accepted answer to “[How do I count the number of duplicates in anydice?](https://rpg.stackexchange.com/a/111421)”\n",
    "\n",
    "Select ``Run All Cells`` from the ``Run`` menu above."
   ]
  },
  {
   "cell_type": "code",
   "execution_count": 1,
   "id": "d4a5f720-9a35-4402-985c-5bcfbe2ffcb7",
   "metadata": {
    "jupyter": {
     "source_hidden": true
    }
   },
   "outputs": [],
   "source": [
    "# Install additional requirements if necessary\n",
    "import warnings\n",
    "with warnings.catch_warnings():\n",
    "    warnings.simplefilter(\"ignore\")\n",
    "    try:\n",
    "        import anydyce\n",
    "    except (ImportError, ModuleNotFoundError):\n",
    "        requirements = [\"anydyce~=0.4.0\"]\n",
    "        try:\n",
    "            import piplite ; await piplite.install(requirements)\n",
    "            # Work around <https://github.com/jupyterlite/jupyterlite/issues/838>\n",
    "            import matplotlib.pyplot ; matplotlib.pyplot.clf()\n",
    "        except ImportError:\n",
    "            import pip ; pip.main([\"install\"] + requirements)\n",
    "    import anydyce"
   ]
  },
  {
   "cell_type": "code",
   "execution_count": 2,
   "id": "7f291c9f-d59c-47f5-9f48-79b258aa8e4b",
   "metadata": {},
   "outputs": [],
   "source": [
    "from dyce import P\n",
    "from dyce.evaluation import PResult, foreach\n",
    "\n",
    "def dupes(result: PResult):\n",
    "    dupes = 0\n",
    "    for i in range(1, len(result.roll)):\n",
    "        if result.roll[i] == result.roll[i - 1]:\n",
    "            dupes += 1\n",
    "    return dupes\n",
    "\n",
    "res_15d6 = foreach(dupes, result=15 @ P(6))\n",
    "res_8d10 = foreach(dupes, result=8 @ P(10))"
   ]
  },
  {
   "cell_type": "code",
   "execution_count": 3,
   "id": "82d8b172",
   "metadata": {},
   "outputs": [
    {
     "data": {
      "application/vnd.jupyter.widget-view+json": {
       "model_id": "a1e21b8e8f3a42aa8b365504055cafa8",
       "version_major": 2,
       "version_minor": 0
      },
      "text/plain": [
       "VBox(children=(Accordion(children=(Tab(children=(VBox(children=(HBox(children=(VBox(children=(VBox(children=(C…"
      ]
     },
     "metadata": {},
     "output_type": "display_data"
    }
   ],
   "source": [
    "from anydyce import jupyter_visualize\n",
    "\n",
    "jupyter_visualize(\n",
    "    [(\"15d6\", res_15d6), (\"8d10\", res_8d10)],\n",
    "    initial_markers=\"D\",\n",
    "    selected_name=\"Scatter Plot\",\n",
    ")"
   ]
  }
 ],
 "metadata": {
  "kernelspec": {
   "display_name": "Python 3 (ipykernel)",
   "language": "python",
   "name": "python3"
  },
  "language_info": {
   "codemirror_mode": {
    "name": "ipython",
    "version": 3
   },
   "file_extension": ".py",
   "mimetype": "text/x-python",
   "name": "python",
   "nbconvert_exporter": "python",
   "pygments_lexer": "ipython3",
   "version": "3.11.4"
  }
 },
 "nbformat": 4,
 "nbformat_minor": 5
}
