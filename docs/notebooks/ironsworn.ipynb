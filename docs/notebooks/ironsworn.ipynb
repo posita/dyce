{
 "cells": [
  {
   "cell_type": "markdown",
   "id": "dad198d0",
   "metadata": {
    "tags": []
   },
   "source": [
    "## Modeling *Ironsworn*’s core mechanic in [``dyce``](https://posita.github.io/dyce/)\n",
    "\n",
    "Select ``Run All Cells`` from the ``Run`` menu above."
   ]
  },
  {
   "cell_type": "code",
   "execution_count": 1,
   "id": "e414ffce-4262-40d9-b2cf-4ec7fbd5085e",
   "metadata": {},
   "outputs": [],
   "source": [
    "# Install additional requirements if necessary\n",
    "import warnings\n",
    "with warnings.catch_warnings():\n",
    "    warnings.simplefilter(\"ignore\")\n",
    "    try:\n",
    "        import anydyce, tabulate\n",
    "    except (ImportError, ModuleNotFoundError):\n",
    "        requirements = [\"anydyce~=0.2.0\", \"tabulate\"]\n",
    "        try:\n",
    "            import piplite ; await piplite.install(requirements)\n",
    "        except ImportError:\n",
    "            import pip ; pip.main([\"install\"] + requirements)\n",
    "    import anydyce, tabulate"
   ]
  },
  {
   "cell_type": "code",
   "execution_count": 2,
   "id": "90981f2c-2130-40eb-b6db-3114070761e5",
   "metadata": {},
   "outputs": [],
   "source": [
    "from dyce import H\n",
    "from dyce.evaluation import HResult, PResult\n",
    "from enum import IntEnum, auto\n",
    "\n",
    "class IronSoloResult(IntEnum):\n",
    "    SPECTACULAR_FAILURE = -1\n",
    "    FAILURE = auto()\n",
    "    WEAK_SUCCESS = auto()\n",
    "    STRONG_SUCCESS = auto()\n",
    "    SPECTACULAR_SUCCESS = auto()\n",
    "\n",
    "d6 = H(6)\n",
    "d10 = H(10)\n",
    "\n",
    "def iron_solo_dependent_term(\n",
    "    action: HResult,\n",
    "    challenges: PResult,\n",
    "    mod=0,\n",
    "):\n",
    "    modded_action = action.outcome + mod\n",
    "    first_challenge_outcome, second_challenge_outcome = challenges.roll\n",
    "    beats_first_challenge = modded_action > first_challenge_outcome\n",
    "    beats_second_challenge = modded_action > second_challenge_outcome\n",
    "    doubles = first_challenge_outcome == second_challenge_outcome\n",
    "    if beats_first_challenge and beats_second_challenge:\n",
    "        return (\n",
    "            IronSoloResult.SPECTACULAR_SUCCESS\n",
    "            if doubles\n",
    "            else IronSoloResult.STRONG_SUCCESS\n",
    "        )\n",
    "    elif beats_first_challenge or beats_second_challenge:\n",
    "        return IronSoloResult.WEAK_SUCCESS\n",
    "    else:\n",
    "        return (\n",
    "            IronSoloResult.SPECTACULAR_FAILURE\n",
    "            if doubles\n",
    "            else IronSoloResult.FAILURE\n",
    "        )"
   ]
  },
  {
   "cell_type": "code",
   "execution_count": 3,
   "id": "e079c284-57cd-448b-94b3-af43f66b1b4c",
   "metadata": {},
   "outputs": [],
   "source": [
    "from dyce import P\n",
    "from dyce.evaluation import foreach\n",
    "from functools import partial\n",
    "from IPython.display import display\n",
    "from pandas import DataFrame, concat\n",
    "import jinja2  # to appease the JupyterLite loader\n",
    "import matplotlib, pandas\n",
    "\n",
    "mods = list(range(0, 5))\n",
    "df = pandas.DataFrame(columns=IronSoloResult)\n",
    "results_by_mod = {}\n",
    "\n",
    "for mod in mods:\n",
    "    res_for_mod = foreach(\n",
    "        partial(iron_solo_dependent_term, mod=mod),\n",
    "        action=d6,\n",
    "        challenges=2 @ P(d10),\n",
    "    ).zero_fill(IronSoloResult)\n",
    "    results_by_mod[mod] = res_for_mod\n",
    "    results_for_mod = dict(res_for_mod.distribution(rational_t=lambda n, d: n / d))\n",
    "    row = pandas.DataFrame(results_for_mod, columns=IronSoloResult, index=[mod])\n",
    "    df = pandas.concat((df, row))\n",
    "\n",
    "df.index.name = \"Modifier\"\n",
    "# DataFrames use enum's values for displaying column names, so we convert them to\n",
    "# names\n",
    "df = df.rename(columns={v: v.name for v in IronSoloResult})"
   ]
  },
  {
   "cell_type": "code",
   "execution_count": 4,
   "id": "35a93417",
   "metadata": {},
   "outputs": [
    {
     "data": {
      "application/vnd.jupyter.widget-view+json": {
       "model_id": "6c5617715184439396c097e5d721c409",
       "version_major": 2,
       "version_minor": 0
      },
      "text/plain": [
       "VBox(children=(HBox(children=(VBox(children=(IntSlider(value=12, continuous_update=False, description='Scale',…"
      ]
     },
     "metadata": {},
     "output_type": "display_data"
    }
   ],
   "source": [
    "from anydyce.viz import BreakoutType, jupyter_visualize\n",
    "\n",
    "jupyter_visualize(\n",
    "    [\n",
    "        (f\"Modifier: {mod:+}\", results_by_mod[mod]) for mod in mods\n",
    "    ],\n",
    "    default_breakout_type=BreakoutType.BURST,\n",
    "    default_main_plot_type=\"bar\",\n",
    ")"
   ]
  }
 ],
 "metadata": {
  "kernelspec": {
   "display_name": "Python 3 (ipykernel)",
   "language": "python",
   "name": "python3"
  },
  "language_info": {
   "codemirror_mode": {
    "name": "ipython",
    "version": 3
   },
   "file_extension": ".py",
   "mimetype": "text/x-python",
   "name": "python",
   "nbconvert_exporter": "python",
   "pygments_lexer": "ipython3",
   "version": "3.10.5"
  }
 },
 "nbformat": 4,
 "nbformat_minor": 5
}
